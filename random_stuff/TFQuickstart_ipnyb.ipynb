{
  "cells": [
    {
      "cell_type": "code",
      "execution_count": 1,
      "metadata": {
        "id": "VS5YekrcR8sm"
      },
      "outputs": [],
      "source": [
        "#import tf\n",
        "import tensorflow as tf"
      ]
    },
    {
      "cell_type": "code",
      "execution_count": 2,
      "metadata": {
        "colab": {
          "base_uri": "https://localhost:8080/"
        },
        "id": "b31dsGfWSeJr",
        "outputId": "2688b850-32f2-44b0-a464-f5e041517b0f"
      },
      "outputs": [],
      "source": [
        "#store mnist dataset in a variable\n",
        "mnist = tf.keras.datasets.mnist\n",
        "\n",
        "#put them into the train and test variables\n",
        "(x_train, y_train), (x_test, y_test) = mnist.load_data()\n",
        "#converting from integers to floating point numbers\n",
        "x_train, x_test = x_train/255.0, x_test/255.0"
      ]
    },
    {
      "cell_type": "code",
      "execution_count": 3,
      "metadata": {
        "id": "UG32O06pSuvX"
      },
      "outputs": [],
      "source": [
        "#Sequential is a class that basically lets you stack the layers\n",
        "model = tf.keras.models.Sequential([\n",
        "  tf.keras.layers.Flatten(input_shape=(28,28)),\n",
        "  tf.keras.layers.Dense(128, activation='relu'),\n",
        "  tf.keras.layers.Dropout(0.2),\n",
        "  tf.keras.layers.Dense(10)\n",
        "])"
      ]
    },
    {
      "cell_type": "code",
      "execution_count": 4,
      "metadata": {
        "colab": {
          "base_uri": "https://localhost:8080/"
        },
        "id": "Qj9cMzppTWqQ",
        "outputId": "03d93563-4645-47ca-c672-736a3f3c74c1"
      },
      "outputs": [
        {
          "data": {
            "text/plain": [
              "array([[-1.2277564e-01,  1.1488738e+00, -2.3095635e-01,  6.5762274e-02,\n",
              "        -9.5403850e-02,  2.1926078e-01,  6.0647547e-02,  2.2049993e-04,\n",
              "         6.5795910e-01, -2.2644788e-01]], dtype=float32)"
            ]
          },
          "execution_count": 4,
          "metadata": {},
          "output_type": "execute_result"
        }
      ],
      "source": [
        "predictions = model(x_train[:1]).numpy()\n",
        "predictions"
      ]
    },
    {
      "cell_type": "code",
      "execution_count": 5,
      "metadata": {
        "colab": {
          "base_uri": "https://localhost:8080/"
        },
        "id": "k1jwn7liTq-W",
        "outputId": "8fda865a-7069-4ce5-b5d6-b8d38382fdf6"
      },
      "outputs": [
        {
          "data": {
            "text/plain": [
              "array([[0.06885136, 0.24557428, 0.06179172, 0.08313684, 0.07076198,\n",
              "        0.09692974, 0.0827127 , 0.07786264, 0.15030773, 0.06207094]],\n",
              "      dtype=float32)"
            ]
          },
          "execution_count": 5,
          "metadata": {},
          "output_type": "execute_result"
        }
      ],
      "source": [
        "tf.nn.softmax(predictions).numpy()"
      ]
    },
    {
      "cell_type": "code",
      "execution_count": 6,
      "metadata": {
        "colab": {
          "base_uri": "https://localhost:8080/"
        },
        "id": "HctPqABVOhrt",
        "outputId": "439cf193-58da-48b1-ae0d-08ed4449788e"
      },
      "outputs": [
        {
          "data": {
            "text/plain": [
              "2.3337688"
            ]
          },
          "execution_count": 6,
          "metadata": {},
          "output_type": "execute_result"
        }
      ],
      "source": [
        "loss_fn = tf.keras.losses.SparseCategoricalCrossentropy(from_logits=True)\n",
        "loss_fn(y_train[:1], predictions).numpy()"
      ]
    },
    {
      "cell_type": "code",
      "execution_count": 7,
      "metadata": {
        "colab": {
          "base_uri": "https://localhost:8080/"
        },
        "id": "k-YxkNU8PA05",
        "outputId": "917f163a-ee64-4215-9d0e-9ad72f8026dc"
      },
      "outputs": [
        {
          "name": "stdout",
          "output_type": "stream",
          "text": [
            "Epoch 1/5\n",
            "1875/1875 [==============================] - 8s 4ms/step - loss: 0.4777 - accuracy: 0.8620\n",
            "Epoch 2/5\n",
            "1875/1875 [==============================] - 8s 4ms/step - loss: 0.1460 - accuracy: 0.9560\n",
            "Epoch 3/5\n",
            "1875/1875 [==============================] - 7s 4ms/step - loss: 0.1120 - accuracy: 0.9659\n",
            "Epoch 4/5\n",
            "1875/1875 [==============================] - 6s 3ms/step - loss: 0.0868 - accuracy: 0.9727\n",
            "Epoch 5/5\n",
            "1875/1875 [==============================] - 7s 4ms/step - loss: 0.0716 - accuracy: 0.9771\n"
          ]
        },
        {
          "data": {
            "text/plain": [
              "<tensorflow.python.keras.callbacks.History at 0x1c13548a788>"
            ]
          },
          "execution_count": 7,
          "metadata": {},
          "output_type": "execute_result"
        }
      ],
      "source": [
        "model.compile(optimizer='adam',\n",
        "              loss=loss_fn,\n",
        "              metrics=['accuracy'])\n",
        "model.fit(x_train, y_train, epochs=5)"
      ]
    },
    {
      "cell_type": "code",
      "execution_count": 8,
      "metadata": {
        "colab": {
          "base_uri": "https://localhost:8080/"
        },
        "id": "XVRaUWEbPHgI",
        "outputId": "65197b24-61b6-44a6-c893-f23acaf6beb1"
      },
      "outputs": [
        {
          "name": "stdout",
          "output_type": "stream",
          "text": [
            "313/313 - 1s - loss: 0.0731 - accuracy: 0.9770\n"
          ]
        },
        {
          "data": {
            "text/plain": [
              "[0.07310616225004196, 0.9769999980926514]"
            ]
          },
          "execution_count": 8,
          "metadata": {},
          "output_type": "execute_result"
        }
      ],
      "source": [
        "model.evaluate(x_test,  y_test, verbose=2)\n"
      ]
    },
    {
      "cell_type": "code",
      "execution_count": null,
      "metadata": {
        "id": "rzYkbn71PSdi"
      },
      "outputs": [],
      "source": []
    }
  ],
  "metadata": {
    "colab": {
      "name": "TFQuickstart.ipnyb",
      "provenance": []
    },
    "interpreter": {
      "hash": "f05ffc77ca57cda840fd0372614eb17a90f2158e0abca8e4881ae8804486d9af"
    },
    "kernelspec": {
      "display_name": "Python 3.7.6 64-bit ('base': conda)",
      "name": "python3"
    },
    "language_info": {
      "codemirror_mode": {
        "name": "ipython",
        "version": 3
      },
      "file_extension": ".py",
      "mimetype": "text/x-python",
      "name": "python",
      "nbconvert_exporter": "python",
      "pygments_lexer": "ipython3",
      "version": "3.7.6"
    }
  },
  "nbformat": 4,
  "nbformat_minor": 0
}
