{
 "cells": [
  {
   "cell_type": "code",
   "execution_count": 1,
   "id": "25134a5a",
   "metadata": {},
   "outputs": [],
   "source": [
    "import matplotlib.pyplot as plt\n",
    "import pandas as pd\n",
    "import os"
   ]
  },
  {
   "cell_type": "code",
   "execution_count": 2,
   "id": "d4830a81",
   "metadata": {},
   "outputs": [
    {
     "data": {
      "text/html": [
       "<div>\n",
       "<style scoped>\n",
       "    .dataframe tbody tr th:only-of-type {\n",
       "        vertical-align: middle;\n",
       "    }\n",
       "\n",
       "    .dataframe tbody tr th {\n",
       "        vertical-align: top;\n",
       "    }\n",
       "\n",
       "    .dataframe thead th {\n",
       "        text-align: right;\n",
       "    }\n",
       "</style>\n",
       "<table border=\"1\" class=\"dataframe\">\n",
       "  <thead>\n",
       "    <tr style=\"text-align: right;\">\n",
       "      <th></th>\n",
       "      <th>kepid</th>\n",
       "      <th>tce_plnt_num</th>\n",
       "      <th>tce_period</th>\n",
       "      <th>tce_period_err</th>\n",
       "      <th>tce_time0bk</th>\n",
       "      <th>tce_time0bk_err</th>\n",
       "      <th>tce_duration</th>\n",
       "      <th>tce_duration_err</th>\n",
       "      <th>av_training_set</th>\n",
       "    </tr>\n",
       "  </thead>\n",
       "  <tbody>\n",
       "    <tr>\n",
       "      <th>0</th>\n",
       "      <td>1162345</td>\n",
       "      <td>2</td>\n",
       "      <td>0.831850</td>\n",
       "      <td>0.000067</td>\n",
       "      <td>132.227</td>\n",
       "      <td>0.03520</td>\n",
       "      <td>2.392</td>\n",
       "      <td>21.000</td>\n",
       "      <td>AFP</td>\n",
       "    </tr>\n",
       "    <tr>\n",
       "      <th>1</th>\n",
       "      <td>1292087</td>\n",
       "      <td>2</td>\n",
       "      <td>1.095240</td>\n",
       "      <td>0.000010</td>\n",
       "      <td>132.133</td>\n",
       "      <td>0.00269</td>\n",
       "      <td>2.122</td>\n",
       "      <td>0.476</td>\n",
       "      <td>UNK</td>\n",
       "    </tr>\n",
       "    <tr>\n",
       "      <th>2</th>\n",
       "      <td>1293031</td>\n",
       "      <td>2</td>\n",
       "      <td>0.719273</td>\n",
       "      <td>0.000014</td>\n",
       "      <td>132.227</td>\n",
       "      <td>0.00279</td>\n",
       "      <td>1.521</td>\n",
       "      <td>0.318</td>\n",
       "      <td>UNK</td>\n",
       "    </tr>\n",
       "    <tr>\n",
       "      <th>3</th>\n",
       "      <td>1162345</td>\n",
       "      <td>3</td>\n",
       "      <td>0.831833</td>\n",
       "      <td>0.000009</td>\n",
       "      <td>131.919</td>\n",
       "      <td>0.00221</td>\n",
       "      <td>2.181</td>\n",
       "      <td>1.210</td>\n",
       "      <td>AFP</td>\n",
       "    </tr>\n",
       "    <tr>\n",
       "      <th>4</th>\n",
       "      <td>1164109</td>\n",
       "      <td>1</td>\n",
       "      <td>622.408000</td>\n",
       "      <td>0.008550</td>\n",
       "      <td>162.256</td>\n",
       "      <td>0.00984</td>\n",
       "      <td>12.010</td>\n",
       "      <td>1.840</td>\n",
       "      <td>UNK</td>\n",
       "    </tr>\n",
       "  </tbody>\n",
       "</table>\n",
       "</div>"
      ],
      "text/plain": [
       "     kepid  tce_plnt_num  tce_period  tce_period_err  tce_time0bk  \\\n",
       "0  1162345             2    0.831850        0.000067      132.227   \n",
       "1  1292087             2    1.095240        0.000010      132.133   \n",
       "2  1293031             2    0.719273        0.000014      132.227   \n",
       "3  1162345             3    0.831833        0.000009      131.919   \n",
       "4  1164109             1  622.408000        0.008550      162.256   \n",
       "\n",
       "   tce_time0bk_err  tce_duration  tce_duration_err av_training_set  \n",
       "0          0.03520         2.392            21.000             AFP  \n",
       "1          0.00269         2.122             0.476             UNK  \n",
       "2          0.00279         1.521             0.318             UNK  \n",
       "3          0.00221         2.181             1.210             AFP  \n",
       "4          0.00984        12.010             1.840             UNK  "
      ]
     },
     "execution_count": 2,
     "metadata": {},
     "output_type": "execute_result"
    }
   ],
   "source": [
    "df = pd.read_csv(\"C:/Advait_Patel/SIR-2022/TransitDetectionModel/preprocessing/DR24_TCE_Table.csv\")\n",
    "df.head()"
   ]
  },
  {
   "cell_type": "code",
   "execution_count": 3,
   "id": "8fc9d317",
   "metadata": {},
   "outputs": [
    {
     "data": {
      "text/plain": [
       "<AxesSubplot:>"
      ]
     },
     "execution_count": 3,
     "metadata": {},
     "output_type": "execute_result"
    },
    {
     "data": {
      "image/png": "[encoded data removed]",
      "text/plain": [
       "<Figure size 432x288 with 1 Axes>"
      ]
     },
     "metadata": {
      "needs_background": "light"
     },
     "output_type": "display_data"
    }
   ],
   "source": [
    "df['av_training_set'].value_counts(sort=False).plot(kind='bar')"
   ]
  },
  {
   "cell_type": "code",
   "execution_count": null,
   "id": "ff066d1f",
   "metadata": {},
   "outputs": [],
   "source": []
  }
 ],
 "metadata": {
  "kernelspec": {
   "display_name": "Python 3 (ipykernel)",
   "language": "python",
   "name": "python3"
  },
  "language_info": {
   "codemirror_mode": {
    "name": "ipython",
    "version": 3
   },
   "file_extension": ".py",
   "mimetype": "text/x-python",
   "name": "python",
   "nbconvert_exporter": "python",
   "pygments_lexer": "ipython3",
   "version": "3.9.7"
  }
 },
 "nbformat": 4,
 "nbformat_minor": 5
}
